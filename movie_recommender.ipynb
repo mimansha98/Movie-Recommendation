{
  "nbformat": 4,
  "nbformat_minor": 0,
  "metadata": {
    "colab": {
      "name": "movie_recommender.ipynb",
      "version": "0.3.2",
      "provenance": [],
      "collapsed_sections": [],
      "toc_visible": true,
      "include_colab_link": true
    },
    "kernelspec": {
      "name": "python3",
      "display_name": "Python 3"
    },
    "accelerator": "GPU"
  },
  "cells": [
    {
      "cell_type": "markdown",
      "metadata": {
        "id": "view-in-github",
        "colab_type": "text"
      },
      "source": [
        "<a href=\"https://colab.research.google.com/github/mimansha98/Movie-Recommendation/blob/master/movie_recommender.ipynb\" target=\"_parent\"><img src=\"https://colab.research.google.com/assets/colab-badge.svg\" alt=\"Open In Colab\"/></a>"
      ]
    },
    {
      "cell_type": "code",
      "metadata": {
        "id": "oCWLvy7TWv_D",
        "colab_type": "code",
        "colab": {}
      },
      "source": [
        "import pandas as pd\n",
        "import numpy as np"
      ],
      "execution_count": 0,
      "outputs": []
    },
    {
      "cell_type": "code",
      "metadata": {
        "id": "Cqa1TCUEtB_f",
        "colab_type": "code",
        "colab": {}
      },
      "source": [
        "from sklearn.feature_extraction.text import CountVectorizer\n",
        "from sklearn.metrics.pairwise import cosine_similarity"
      ],
      "execution_count": 0,
      "outputs": []
    },
    {
      "cell_type": "code",
      "metadata": {
        "id": "b7VQP1SItJEU",
        "colab_type": "code",
        "colab": {}
      },
      "source": [
        "###### helper functions. Use them when needed #######\n",
        "def get_title_from_index(index):\n",
        "\treturn df[df.index == index][\"title\"].values[0]\n",
        "\n",
        "def get_index_from_title(title):\n",
        "\treturn df[df.title == title][\"index\"].values[0]"
      ],
      "execution_count": 0,
      "outputs": []
    },
    {
      "cell_type": "markdown",
      "metadata": {
        "id": "VXrGH2ERtSQH",
        "colab_type": "text"
      },
      "source": [
        "##STEP 1: Read the csv file"
      ]
    },
    {
      "cell_type": "code",
      "metadata": {
        "id": "jKPTbWH-tW43",
        "colab_type": "code",
        "colab": {}
      },
      "source": [
        "df = pd.read_csv(\"/content/movie_dataset.csv\")\n",
        "#print df.head()"
      ],
      "execution_count": 0,
      "outputs": []
    },
    {
      "cell_type": "code",
      "metadata": {
        "id": "5hrmWSPanlzL",
        "colab_type": "code",
        "colab": {}
      },
      "source": [
        "ls"
      ],
      "execution_count": 0,
      "outputs": []
    },
    {
      "cell_type": "code",
      "metadata": {
        "id": "WnqejB1BHhV4",
        "colab_type": "code",
        "colab": {}
      },
      "source": [
        "df.info()"
      ],
      "execution_count": 0,
      "outputs": []
    },
    {
      "cell_type": "markdown",
      "metadata": {
        "id": "9NNAsuOvSWTR",
        "colab_type": "text"
      },
      "source": [
        "##Step 2: Select Features"
      ]
    },
    {
      "cell_type": "code",
      "metadata": {
        "id": "boE_-IK5Ssfy",
        "colab_type": "code",
        "colab": {}
      },
      "source": [
        "features = ['keywords','cast','genres','director']"
      ],
      "execution_count": 0,
      "outputs": []
    },
    {
      "cell_type": "markdown",
      "metadata": {
        "id": "nftayPfTUcae",
        "colab_type": "text"
      },
      "source": [
        "##Step 3: Create a column in DF which combines all selected features"
      ]
    },
    {
      "cell_type": "code",
      "metadata": {
        "id": "1vxrxD7KUj8E",
        "colab_type": "code",
        "outputId": "0044a774-a5ca-4f18-d79b-5c2c9c15d5f9",
        "colab": {
          "base_uri": "https://localhost:8080/",
          "height": 118
        }
      },
      "source": [
        "def combine_features(row):\n",
        "  return row['keywords'] + \" \"+ row['cast'] + \" \"+ row[\"genres\"] +\" \"+ row[\"director\"]\n",
        "\n",
        "for feature in features:\n",
        "  df[feature] = df[feature].fillna('') \n",
        "  \n",
        "#except:\n",
        " # print \"Error:\", row\n",
        "  \n",
        "df[\"combined_features\"]=df.apply(combine_features,axis=1)\n",
        "\n",
        "print (\"Combined_Features:\", df[\"combined_features\"].head())"
      ],
      "execution_count": 23,
      "outputs": [
        {
          "output_type": "stream",
          "text": [
            "Combined_Features: 0    culture clash future space war space colony so...\n",
            "1    ocean drug abuse exotic island east india trad...\n",
            "2    spy based on novel secret agent sequel mi6 Dan...\n",
            "3    dc comics crime fighter terrorist secret ident...\n",
            "4    based on novel mars medallion space travel pri...\n",
            "Name: combined_features, dtype: object\n"
          ],
          "name": "stdout"
        }
      ]
    },
    {
      "cell_type": "markdown",
      "metadata": {
        "id": "iuyY89cOfBeh",
        "colab_type": "text"
      },
      "source": [
        "##Step 4: Create count matrix from this new combined column"
      ]
    },
    {
      "cell_type": "code",
      "metadata": {
        "id": "CsTBPVcUfHAj",
        "colab_type": "code",
        "colab": {}
      },
      "source": [
        "cv = CountVectorizer()\n",
        "count_matrix= cv.fit_transform(df[\"combined_features\"])\n"
      ],
      "execution_count": 0,
      "outputs": []
    },
    {
      "cell_type": "markdown",
      "metadata": {
        "id": "NdT4GA4LIpAZ",
        "colab_type": "text"
      },
      "source": [
        "##Step 5: Compute the Cosine Similarity based on the count_matrix"
      ]
    },
    {
      "cell_type": "code",
      "metadata": {
        "id": "4idxcWBwIrEd",
        "colab_type": "code",
        "colab": {}
      },
      "source": [
        "cosine_sim = cosine_similarity(count_matrix)\n",
        "movie_user_likes = \"Avatar\""
      ],
      "execution_count": 0,
      "outputs": []
    },
    {
      "cell_type": "markdown",
      "metadata": {
        "id": "WQnFId5jKVxU",
        "colab_type": "text"
      },
      "source": [
        "## Step 6: Get index of this movie from its title"
      ]
    },
    {
      "cell_type": "code",
      "metadata": {
        "id": "u5FbD5WbKXlv",
        "colab_type": "code",
        "colab": {}
      },
      "source": [
        "movie_index = get_index_from_title(movie_user_likes)\n",
        "similar_matrix = list(enumerate(cosine_sim[movie_index]))\n"
      ],
      "execution_count": 0,
      "outputs": []
    },
    {
      "cell_type": "markdown",
      "metadata": {
        "id": "VtBmWHiXLlMh",
        "colab_type": "text"
      },
      "source": [
        "## Step 7: Get a list of similar movies in descending order of similarity score\n"
      ]
    },
    {
      "cell_type": "code",
      "metadata": {
        "id": "8UDvq1DXLjpu",
        "colab_type": "code",
        "colab": {}
      },
      "source": [
        "sorted_similar_movies= sorted(similar_matrix, key=lambda x:x[1], reverse=True)"
      ],
      "execution_count": 0,
      "outputs": []
    },
    {
      "cell_type": "markdown",
      "metadata": {
        "id": "eQ10OVwDLqEq",
        "colab_type": "text"
      },
      "source": [
        "## Step 8: Print titles of first 20 movies"
      ]
    },
    {
      "cell_type": "code",
      "metadata": {
        "id": "rPA_ToFNLugJ",
        "colab_type": "code",
        "colab": {
          "base_uri": "https://localhost:8080/",
          "height": 370
        },
        "outputId": "ce234cab-b545-45a2-b0c3-792b6f74806a"
      },
      "source": [
        "i=0\n",
        "for movie in sorted_similar_movies:\n",
        " print(get_title_from_index(movie[0]))\n",
        " i=i+1\n",
        " if i>20:\n",
        "   break\n",
        "  "
      ],
      "execution_count": 29,
      "outputs": [
        {
          "output_type": "stream",
          "text": [
            "Avatar\n",
            "Guardians of the Galaxy\n",
            "Aliens\n",
            "Star Wars: Clone Wars: Volume 1\n",
            "Star Trek Into Darkness\n",
            "Star Trek Beyond\n",
            "Alien\n",
            "Lockout\n",
            "Jason X\n",
            "The Helix... Loaded\n",
            "Moonraker\n",
            "Planet of the Apes\n",
            "Galaxy Quest\n",
            "Gravity\n",
            "Alien³\n",
            "Jupiter Ascending\n",
            "The Wolverine\n",
            "Silent Running\n",
            "Zathura: A Space Adventure\n",
            "Trekkies\n",
            "Cargo\n"
          ],
          "name": "stdout"
        }
      ]
    }
  ]
}